{
 "cells": [
  {
   "cell_type": "code",
   "execution_count": 211,
   "id": "8dbe047b",
   "metadata": {},
   "outputs": [
    {
     "name": "stdout",
     "output_type": "stream",
     "text": [
      "문자열을 입력하여 주세요 : \n",
      "dsjfhajkeshfkhas\n",
      "DSJFHAJKESHFKHAS\n"
     ]
    }
   ],
   "source": [
    "#신문 헤드라인\n",
    "input_data=input('문자열을 입력하여 주세요 : \\n') #입력\n",
    "input_data_b=len(input_data.encode('utf-8')) #인코딩한 문자열 길이 반환\n",
    "if bytes(input_data_b) <= bytes(80): #byte 크기 대조?\n",
    "    conv_data=input_data.upper() #대문자로 표현\n",
    "    print(conv_data) #출력\n",
    "else:\n",
    "    print(\"byte를 초과하였습니다.\")\n",
    "\n",
    "    \n",
    "\n",
    "# ex)\n",
    "# input The_headline_is_the_text_indicating_the_nature_of_the_article_below_it.\n",
    "# ouput THE_HEADLINE_IS_THE_TEXT_INDICATING_THE_NATURE_OF_THE_ARTICLE_BELOW_IT.\n",
    "# 문제출처 https://swexpertacademy.com/main/code/problem/problemDetail.do?problemLevel=1&contestProbId=AV5QKsLaAy0DFAUq&categoryId=AV5QKsLaAy0DFAUq&categoryType=CODE&problemTitle=&orderBy=FIRST_REG_DATETIME&selectCodeLang=PYTHON&select-1=1&pageSize=10&pageIndex=1&&&&&&&&&&\n"
   ]
  },
  {
   "cell_type": "code",
   "execution_count": 218,
   "id": "c064a628",
   "metadata": {},
   "outputs": [
    {
     "name": "stdout",
     "output_type": "stream",
     "text": [
      "알파벳으로 입력하여 주세요 : \n",
      "ABCDEFGHIJKLMNOPQRSTUVWXYZ'AAAAAAA\n",
      "1 2 3 4 5 6 7 8 9 10 11 12 13 14 15 16 17 18 19 20 21 22 23 24 25 26 조건이 충족되지 않습니다.\n"
     ]
    }
   ],
   "source": [
    "#알파벳을 숫자로 변환\n",
    "\n",
    "#사전형으로 만들기\n",
    "alphabat=list('ABCDEFGHIJKLMNOPQRSTUVWXYZ') #알파벳 리스트로 나타내기\n",
    "list_al=[]  #알파벳 딕셔너리로 변경하기 위한 리스트 추가용으로 사용\n",
    "\n",
    "for l in range(0,len(alphabat)): \n",
    "    list_al.append([alphabat[l],l+1]) #딕셔너리로 변경하기 위해 리스트형태로 추가\n",
    "dict_alphabat=dict(list_al) #딕셔너리로 변경\n",
    "\n",
    "#입력받기\n",
    "input_data=input('알파벳으로 입력하여 주세요 : \\n') #입력\n",
    "input_data_l=list(input_data.upper()) #대문자형 리스트로 변경하여 저장\n",
    "if len(input_data) <= 200: #나와 있는 조건\n",
    "    for l in input_data_l: #리스트를 한개씩 뽑아내기 위한 반복문\n",
    "        if l in dict_alphabat.keys(): # 입력 받은 값이 위에 만들어 놓은 사전형에 있는지 확인하기 위해\n",
    "            j=dict_alphabat[l]\n",
    "            print(j,end=' ') #출력시 띄어쓰기를 만들기 위해\n",
    "        else:\n",
    "            print('딕셔너리에 충족되지 않습니다.')\n",
    "            break #충족되지 않았을때 멈추기 위해\n",
    "else:\n",
    "    print('길이가 초과되었습니다.')\n",
    "\n",
    "\n",
    "    \n",
    "\n",
    "# ex)\n",
    "# input  ABCDEFGHIJKLMNOPQRSTUVWXYZ\n",
    "# output 1 2 3 4 5 6 7 8 9 10 11 12 13 14 15 16 17 18 19 20 21 22 23 24 25 26\n",
    "# 문제출처 https://swexpertacademy.com/main/code/problem/problemDetail.do?problemLevel=1&contestProbId=AV5QLGxKAzQDFAUq&categoryId=AV5QLGxKAzQDFAUq&categoryType=CODE&problemTitle=&orderBy=FIRST_REG_DATETIME&selectCodeLang=PYTHON&select-1=1&pageSize=10&pageIndex=1"
   ]
  }
 ],
 "metadata": {
  "kernelspec": {
   "display_name": "Python 3 (ipykernel)",
   "language": "python",
   "name": "python3"
  },
  "language_info": {
   "codemirror_mode": {
    "name": "ipython",
    "version": 3
   },
   "file_extension": ".py",
   "mimetype": "text/x-python",
   "name": "python",
   "nbconvert_exporter": "python",
   "pygments_lexer": "ipython3",
   "version": "3.9.7"
  }
 },
 "nbformat": 4,
 "nbformat_minor": 5
}
